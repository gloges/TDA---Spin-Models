{
 "cells": [
  {
   "cell_type": "code",
   "execution_count": 2,
   "metadata": {},
   "outputs": [],
   "source": [
    "import numpy as np\n",
    "from sklearn.linear_model import LogisticRegression\n",
    "from sklearn.model_selection import train_test_split\n",
    "import matplotlib.pyplot as plt\n",
    "from persim import PersImage\n",
    "import gudhi\n",
    "import os\n",
    "import glob\n",
    "from matplotlib import ticker, cm\n",
    "from matplotlib.colors import LogNorm\n",
    "from sklearn.cluster import KMeans\n",
    "import time\n",
    "from sklearn.decomposition import PCA\n",
    "import matplotlib as mpl\n",
    "from sklearn import preprocessing"
   ]
  },
  {
   "cell_type": "code",
   "execution_count": 3,
   "metadata": {},
   "outputs": [],
   "source": [
    "#pdlocnum has format [[birth1, persistence1, counts1],...]\n",
    "#bounds should be a list [bmin,bmax,pmin,pmax]\n",
    "#bins should be a list [bbins, pbins]\n",
    "def PerIm(pdlocnumI,bounds,bins,stdev,res=1000):\n",
    "    if pdlocnumI % 1000 == 0:\n",
    "        print(pdlocnumI)\n",
    "    pdlocnum = pds[pdlocnumI]\n",
    "    x = np.linspace(bounds[0], bounds[1], res)\n",
    "    y = np.linspace(bounds[2], bounds[3], res)\n",
    "    xx, yy = np.meshgrid(x, y, sparse=True)\n",
    "    z=np.zeros([res,res])\n",
    "    for i in np.arange(len(pdlocnum)):\n",
    "        z=z+np.log(1+pdlocnum[i][1])*pdlocnum[i][2]*np.exp((-0.5*(xx-pdlocnum[i][0])**2-0.5*(yy-pdlocnum[i][1])**2)*stdev**-2)\n",
    "    return z.reshape(bins[0],res//bins[0],bins[1],res//bins[1]).sum(3).sum(1)"
   ]
  },
  {
   "cell_type": "code",
   "execution_count": 4,
   "metadata": {},
   "outputs": [],
   "source": [
    "fPD1list=np.sort(glob.glob(\"condorSims/Dat*/*/*PD1.dat\"))\n",
    "TPD1list=[]\n",
    "for f in fPD1list:\n",
    "    if f[39]=='\\\\':\n",
    "        TPD1list.append(float(f[36:39]))\n",
    "    else:\n",
    "        TPD1list.append(float(f[36:40]))"
   ]
  },
  {
   "cell_type": "code",
   "execution_count": 5,
   "metadata": {},
   "outputs": [],
   "source": [
    "pds=[np.loadtxt(f) for f in fPD1list]"
   ]
  },
  {
   "cell_type": "code",
   "execution_count": 387,
   "metadata": {
    "scrolled": true
   },
   "outputs": [
    {
     "name": "stdout",
     "output_type": "stream",
     "text": [
      "0\n",
      "1000\n",
      "2000\n",
      "3000\n",
      "4000\n",
      "5000\n",
      "6000\n",
      "7000\n",
      "8000\n",
      "9000\n",
      "10000\n",
      "11000\n",
      "12000\n",
      "13000\n",
      "14000\n",
      "15000\n",
      "16000\n",
      "17000\n",
      "18000\n",
      "19000\n",
      "20000\n",
      "21000\n",
      "22000\n",
      "23000\n",
      "24000\n",
      "25000\n",
      "26000\n",
      "27000\n",
      "28000\n",
      "29000\n",
      "30000\n",
      "31000\n",
      "32000\n",
      "33000\n",
      "34000\n",
      "35000\n",
      "36000\n",
      "37000\n",
      "38000\n",
      "39000\n",
      "40000\n",
      "41000\n",
      "42000\n",
      "43000\n",
      "44000\n",
      "45000\n",
      "46000\n",
      "47000\n",
      "48000\n",
      "49000\n",
      "50000\n",
      "51000\n",
      "52000\n",
      "53000\n",
      "54000\n",
      "55000\n",
      "56000\n",
      "57000\n",
      "58000\n",
      "59000\n",
      "60000\n",
      "61000\n",
      "62000\n",
      "63000\n",
      "64000\n",
      "65000\n",
      "66000\n",
      "67000\n",
      "68000\n",
      "69000\n",
      "70000\n",
      "71000\n"
     ]
    }
   ],
   "source": [
    "bounds=[0,25,0,25]\n",
    "bins=[25,25]\n",
    "res=bins[0]*10\n",
    "\n",
    "count=0\n",
    "imgs1=[PerIm(p,bounds,bins,1,res=res) for p in np.arange(len(pds))]"
   ]
  },
  {
   "cell_type": "code",
   "execution_count": 388,
   "metadata": {},
   "outputs": [],
   "source": [
    "imgs1_array=np.array([img.flatten() for img in imgs1])"
   ]
  },
  {
   "cell_type": "code",
   "execution_count": 389,
   "metadata": {},
   "outputs": [],
   "source": [
    "imgs1_scaled=preprocessing.scale(imgs1_array)"
   ]
  },
  {
   "cell_type": "code",
   "execution_count": 390,
   "metadata": {},
   "outputs": [],
   "source": [
    "labels=[int(t<2.269) for t in TPD1list]"
   ]
  },
  {
   "cell_type": "code",
   "execution_count": 391,
   "metadata": {},
   "outputs": [
    {
     "data": {
      "text/plain": [
       "((71210, 625), (71210,), (71210,))"
      ]
     },
     "execution_count": 391,
     "metadata": {},
     "output_type": "execute_result"
    }
   ],
   "source": [
    "(np.shape(imgs1_array), np.shape(TPD1list), np.shape(labels))"
   ]
  },
  {
   "cell_type": "code",
   "execution_count": 392,
   "metadata": {},
   "outputs": [],
   "source": [
    "X_train, X_test, y_train, y_test, T_train, T_test = train_test_split(imgs1_scaled, labels, TPD1list, test_size=0.40)"
   ]
  },
  {
   "cell_type": "code",
   "execution_count": 1,
   "metadata": {
    "scrolled": true
   },
   "outputs": [
    {
     "ename": "NameError",
     "evalue": "name 'LogisticRegression' is not defined",
     "output_type": "error",
     "traceback": [
      "\u001b[1;31m---------------------------------------------------------------------------\u001b[0m",
      "\u001b[1;31mNameError\u001b[0m                                 Traceback (most recent call last)",
      "\u001b[1;32m<ipython-input-1-df5b96e8493f>\u001b[0m in \u001b[0;36m<module>\u001b[1;34m\u001b[0m\n\u001b[1;32m----> 1\u001b[1;33m \u001b[0mlogreg\u001b[0m \u001b[1;33m=\u001b[0m \u001b[0mLogisticRegression\u001b[0m\u001b[1;33m(\u001b[0m\u001b[0mC\u001b[0m\u001b[1;33m=\u001b[0m\u001b[1;36m0.1\u001b[0m\u001b[1;33m,\u001b[0m \u001b[0msolver\u001b[0m\u001b[1;33m=\u001b[0m\u001b[1;34m'liblinear'\u001b[0m\u001b[1;33m,\u001b[0m \u001b[0mpenalty\u001b[0m\u001b[1;33m=\u001b[0m\u001b[1;34m'l2'\u001b[0m\u001b[1;33m)\u001b[0m\u001b[1;33m\u001b[0m\u001b[1;33m\u001b[0m\u001b[0m\n\u001b[0m\u001b[0;32m      2\u001b[0m \u001b[0mlogreg\u001b[0m\u001b[1;33m.\u001b[0m\u001b[0mfit\u001b[0m\u001b[1;33m(\u001b[0m\u001b[0mX_train\u001b[0m\u001b[1;33m,\u001b[0m \u001b[0my_train\u001b[0m\u001b[1;33m)\u001b[0m\u001b[1;33m\u001b[0m\u001b[1;33m\u001b[0m\u001b[0m\n\u001b[0;32m      3\u001b[0m \u001b[1;33m\u001b[0m\u001b[0m\n\u001b[0;32m      4\u001b[0m \u001b[0minverse_image\u001b[0m \u001b[1;33m=\u001b[0m \u001b[0mnp\u001b[0m\u001b[1;33m.\u001b[0m\u001b[0mcopy\u001b[0m\u001b[1;33m(\u001b[0m\u001b[0mlogreg\u001b[0m\u001b[1;33m.\u001b[0m\u001b[0mcoef_\u001b[0m\u001b[1;33m)\u001b[0m\u001b[1;33m.\u001b[0m\u001b[0mreshape\u001b[0m\u001b[1;33m(\u001b[0m\u001b[1;33m(\u001b[0m\u001b[1;36m25\u001b[0m\u001b[1;33m,\u001b[0m\u001b[1;36m25\u001b[0m\u001b[1;33m)\u001b[0m\u001b[1;33m)\u001b[0m\u001b[1;33m\u001b[0m\u001b[1;33m\u001b[0m\u001b[0m\n\u001b[0;32m      5\u001b[0m \u001b[0mfig\u001b[0m\u001b[1;33m,\u001b[0m \u001b[0max\u001b[0m \u001b[1;33m=\u001b[0m \u001b[0mplt\u001b[0m\u001b[1;33m.\u001b[0m\u001b[0msubplots\u001b[0m\u001b[1;33m(\u001b[0m\u001b[1;33m)\u001b[0m\u001b[1;33m\u001b[0m\u001b[1;33m\u001b[0m\u001b[0m\n",
      "\u001b[1;31mNameError\u001b[0m: name 'LogisticRegression' is not defined"
     ]
    }
   ],
   "source": [
    "logreg = LogisticRegression(C=0.1, solver='liblinear', penalty='l2')\n",
    "logreg.fit(X_train, y_train)\n",
    "\n",
    "inverse_image = np.copy(logreg.coef_).reshape((25,25))\n",
    "fig, ax = plt.subplots()\n",
    "cs = ax.imshow(abs(inverse_image), origin='lower')\n",
    "cbar = fig.colorbar(cs)"
   ]
  },
  {
   "cell_type": "code",
   "execution_count": 394,
   "metadata": {},
   "outputs": [
    {
     "data": {
      "text/plain": [
       "[<matplotlib.lines.Line2D at 0x2cb2c001940>]"
      ]
     },
     "execution_count": 394,
     "metadata": {},
     "output_type": "execute_result"
    },
    {
     "data": {
      "image/png": "[encoded data removed]",
      "text/plain": [
       "<Figure size 432x288 with 1 Axes>"
      ]
     },
     "metadata": {
      "needs_background": "light"
     },
     "output_type": "display_data"
    }
   ],
   "source": [
    "pred = logreg.predict(X_test)\n",
    "diff = abs(pred-y_test)\n",
    "TT = np.arange(1.0,3.51,0.05)\n",
    "TT = np.round(TT, decimals=3)\n",
    "avg = np.zeros(len(TT))\n",
    "acc = np.zeros(len(TT))\n",
    "for i in np.arange(len(TT)):\n",
    "    avg[i] = np.mean(pred[np.where(T_test==TT[i])[0]])\n",
    "    acc[i] = np.mean(1-diff[np.where(T_test==TT[i])[0]])\n",
    "\n",
    "plt.plot(TT, acc)"
   ]
  },
  {
   "cell_type": "code",
   "execution_count": 395,
   "metadata": {},
   "outputs": [
    {
     "name": "stdout",
     "output_type": "stream",
     "text": [
      "2.281563126252505\n"
     ]
    },
    {
     "data": {
      "text/plain": [
       "[<matplotlib.lines.Line2D at 0x2cb2bfc0cc0>]"
      ]
     },
     "execution_count": 395,
     "metadata": {},
     "output_type": "execute_result"
    },
    {
     "data": {
      "image/png": "[encoded data removed]",
      "text/plain": [
       "<Figure size 432x288 with 1 Axes>"
      ]
     },
     "metadata": {
      "needs_background": "light"
     },
     "output_type": "display_data"
    }
   ],
   "source": [
    "tRange = np.linspace(2,2.5,500)\n",
    "interps = np.interp(tRange, TT, avg)\n",
    "\n",
    "Tc = tRange[abs(interps-0.5).argmin()]\n",
    "\n",
    "print(Tc)\n",
    "plt.plot(tRange, interps)"
   ]
  },
  {
   "cell_type": "code",
   "execution_count": 396,
   "metadata": {},
   "outputs": [],
   "source": [
    "kmeans = KMeans(n_clusters=2, random_state=0).fit(X_train)"
   ]
  },
  {
   "cell_type": "code",
   "execution_count": 397,
   "metadata": {},
   "outputs": [
    {
     "data": {
      "text/plain": [
       "-23120793.71948545"
      ]
     },
     "execution_count": 397,
     "metadata": {},
     "output_type": "execute_result"
    }
   ],
   "source": [
    "kmeans.score(X_train)"
   ]
  },
  {
   "cell_type": "code",
   "execution_count": 398,
   "metadata": {},
   "outputs": [
    {
     "data": {
      "text/plain": [
       "-18310250.385058124"
      ]
     },
     "execution_count": 398,
     "metadata": {},
     "output_type": "execute_result"
    }
   ],
   "source": [
    "kmeans.score(X_test)"
   ]
  },
  {
   "cell_type": "markdown",
   "metadata": {},
   "source": [
    "**H0 Classification**"
   ]
  },
  {
   "cell_type": "code",
   "execution_count": 294,
   "metadata": {},
   "outputs": [],
   "source": [
    "#pdlocnum has format [[birth1, persistence1, counts1],...]\n",
    "#bounds should be a list [pmin,pmax]\n",
    "#bins should be pbins\n",
    "def PerIm0(pdlocnum,bounds,bins,stdev,res=1000):\n",
    "    if len(np.shape(pdlocnum))==1:\n",
    "        pdlocnum = np.array([pdlocnum])\n",
    "    \n",
    "    y = np.linspace(bounds[0], bounds[1], res)\n",
    "    z=np.zeros(res)\n",
    "    for i in np.arange(len(pdlocnum)):\n",
    "        z=z+np.log(1+pdlocnum[i][1])*pdlocnum[i][2]*np.exp((-0.5*(y-pdlocnum[i][1])**2)*stdev**-2)\n",
    "    return z.reshape(bins,res//bins).sum(1)"
   ]
  },
  {
   "cell_type": "code",
   "execution_count": 214,
   "metadata": {},
   "outputs": [],
   "source": [
    "fPD0list=np.sort(glob.glob(\"condorSims/Dat*/*/*PD0.dat\"))\n",
    "TPD0list=[]\n",
    "for f in fPD0list:\n",
    "    if f[39]=='\\\\':\n",
    "        TPD0list.append(float(f[36:39]))\n",
    "    else:\n",
    "        TPD0list.append(float(f[36:40]))"
   ]
  },
  {
   "cell_type": "code",
   "execution_count": 216,
   "metadata": {},
   "outputs": [],
   "source": [
    "pds0=[np.loadtxt(f) for f in fPD0list]"
   ]
  },
  {
   "cell_type": "code",
   "execution_count": 299,
   "metadata": {},
   "outputs": [],
   "source": [
    "bounds=[0,25]\n",
    "bins=25\n",
    "res=bins*10\n",
    "\n",
    "imgs0 = [PerIm0(p,bounds,bins,1,res=res) for p in pds0]"
   ]
  },
  {
   "cell_type": "code",
   "execution_count": 304,
   "metadata": {},
   "outputs": [],
   "source": [
    "imgs0_scaled=preprocessing.scale(imgs0)"
   ]
  },
  {
   "cell_type": "code",
   "execution_count": 306,
   "metadata": {},
   "outputs": [],
   "source": [
    "labels0=[int(t<2.269) for t in TPD0list]"
   ]
  },
  {
   "cell_type": "code",
   "execution_count": 311,
   "metadata": {},
   "outputs": [
    {
     "data": {
      "text/plain": [
       "((71210, 25), (71210,), (71210,))"
      ]
     },
     "execution_count": 311,
     "metadata": {},
     "output_type": "execute_result"
    }
   ],
   "source": [
    "(np.shape(imgs0_scaled), np.shape(TPD0list), np.shape(labels0))"
   ]
  },
  {
   "cell_type": "code",
   "execution_count": 335,
   "metadata": {},
   "outputs": [],
   "source": [
    "X_train, X_test, y_train, y_test, T_train, T_test = train_test_split(imgs0_scaled, labels, TPD0list, test_size=0.25)"
   ]
  },
  {
   "cell_type": "code",
   "execution_count": 336,
   "metadata": {
    "scrolled": true
   },
   "outputs": [
    {
     "data": {
      "text/plain": [
       "[<matplotlib.lines.Line2D at 0x2cb2c4f5898>]"
      ]
     },
     "execution_count": 336,
     "metadata": {},
     "output_type": "execute_result"
    },
    {
     "data": {
      "image/png": "[encoded data removed]",
      "text/plain": [
       "<Figure size 432x288 with 1 Axes>"
      ]
     },
     "metadata": {
      "needs_background": "light"
     },
     "output_type": "display_data"
    }
   ],
   "source": [
    "logreg = LogisticRegression(C=0.1, solver='liblinear', penalty='l2')\n",
    "logreg.fit(X_train, y_train)\n",
    "\n",
    "inverse_image = np.copy(logreg.coef_)\n",
    "plt.plot(inverse_image[0])"
   ]
  },
  {
   "cell_type": "code",
   "execution_count": 337,
   "metadata": {
    "scrolled": true
   },
   "outputs": [
    {
     "data": {
      "text/plain": [
       "[<matplotlib.lines.Line2D at 0x2cb2c8d6b38>]"
      ]
     },
     "execution_count": 337,
     "metadata": {},
     "output_type": "execute_result"
    },
    {
     "data": {
      "image/png": "[encoded data removed]",
      "text/plain": [
       "<Figure size 432x288 with 1 Axes>"
      ]
     },
     "metadata": {
      "needs_background": "light"
     },
     "output_type": "display_data"
    }
   ],
   "source": [
    "pred = logreg.predict(X_test)\n",
    "diff = abs(pred-y_test)\n",
    "TT = np.arange(1.0,3.51,0.05)\n",
    "TT = np.round(TT, decimals=3)\n",
    "avg = np.zeros(len(TT))\n",
    "acc = np.zeros(len(TT))\n",
    "for i in np.arange(len(TT)):\n",
    "    avg[i] = np.mean(pred[np.where(T_test==TT[i])[0]])\n",
    "    acc[i] = np.mean(1-diff[np.where(T_test==TT[i])[0]])\n",
    "\n",
    "plt.plot(TT, acc)"
   ]
  },
  {
   "cell_type": "code",
   "execution_count": 338,
   "metadata": {},
   "outputs": [
    {
     "name": "stdout",
     "output_type": "stream",
     "text": [
      "2.283567134268537\n"
     ]
    },
    {
     "data": {
      "text/plain": [
       "[<matplotlib.lines.Line2D at 0x2cb2c93a550>]"
      ]
     },
     "execution_count": 338,
     "metadata": {},
     "output_type": "execute_result"
    },
    {
     "data": {
      "image/png": "[encoded data removed]",
      "text/plain": [
       "<Figure size 432x288 with 1 Axes>"
      ]
     },
     "metadata": {
      "needs_background": "light"
     },
     "output_type": "display_data"
    }
   ],
   "source": [
    "tRange = np.linspace(2,2.5,500)\n",
    "interps = np.interp(tRange, TT, avg)\n",
    "\n",
    "Tc = tRange[abs(interps-0.5).argmin()]\n",
    "\n",
    "print(Tc)\n",
    "plt.plot(tRange, interps)"
   ]
  },
  {
   "cell_type": "code",
   "execution_count": null,
   "metadata": {},
   "outputs": [],
   "source": []
  }
 ],
 "metadata": {
  "kernelspec": {
   "display_name": "Python 3",
   "language": "python",
   "name": "python3"
  },
  "language_info": {
   "codemirror_mode": {
    "name": "ipython",
    "version": 3
   },
   "file_extension": ".py",
   "mimetype": "text/x-python",
   "name": "python",
   "nbconvert_exporter": "python",
   "pygments_lexer": "ipython3",
   "version": "3.6.8"
  }
 },
 "nbformat": 4,
 "nbformat_minor": 2
}
