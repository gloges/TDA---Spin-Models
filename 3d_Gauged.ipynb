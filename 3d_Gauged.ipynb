{
 "cells": [
  {
   "cell_type": "code",
   "execution_count": 1,
   "metadata": {},
   "outputs": [],
   "source": [
    "import numpy as np\n",
    "from scipy.optimize import curve_fit\n",
    "from sklearn.linear_model import LogisticRegression\n",
    "from sklearn.model_selection import train_test_split\n",
    "import matplotlib.pyplot as plt\n",
    "from mpl_toolkits.mplot3d import Axes3D\n",
    "from persim import PersImage\n",
    "import gudhi\n",
    "import os\n",
    "import glob\n",
    "from matplotlib import ticker, cm\n",
    "from matplotlib.colors import LogNorm\n",
    "from sklearn.cluster import KMeans\n",
    "import time\n",
    "from sklearn.decomposition import PCA\n",
    "import matplotlib as mpl\n",
    "from sklearn import preprocessing"
   ]
  },
  {
   "cell_type": "code",
   "execution_count": 1333,
   "metadata": {},
   "outputs": [],
   "source": [
    "flist=np.sort(glob.glob(\"*3d_Z2_Ising*/2.8/*.txt\"))"
   ]
  },
  {
   "cell_type": "code",
   "execution_count": 1334,
   "metadata": {
    "collapsed": true
   },
   "outputs": [
    {
     "name": "stdout",
     "output_type": "stream",
     "text": [
      "Data_3d_Z2_Ising_Met_N=15_K=200\\2.8\\1553282770.txt 6.860645532608032\n",
      "Data_3d_Z2_Ising_Met_N=15_K=200\\2.8\\1553282781.txt 6.43657112121582\n",
      "Data_3d_Z2_Ising_Met_N=15_K=200\\2.8\\1553282798.txt 6.4308812618255615\n",
      "Data_3d_Z2_Ising_Met_N=15_K=200\\2.8\\1553282816.txt 6.3092968463897705\n",
      "Data_3d_Z2_Ising_Met_N=15_K=200\\2.8\\1553282931.txt 6.391962766647339\n",
      "Data_3d_Z2_Ising_Met_N=15_K=200\\2.8\\1553282976.txt 6.4933929443359375\n",
      "Data_3d_Z2_Ising_Met_N=15_K=200\\2.8\\1553283042.txt 6.3823254108428955\n",
      "Data_3d_Z2_Ising_Met_N=15_K=200\\2.8\\1553283099.txt 6.805423021316528\n",
      "Data_3d_Z2_Ising_Met_N=15_K=200\\2.8\\1553283113.txt 7.088414192199707\n",
      "Data_3d_Z2_Ising_Met_N=15_K=200\\2.8\\1553283162.txt 7.290533781051636\n",
      "Data_3d_Z2_Ising_Met_N=15_K=200\\2.8\\1553283263.txt 7.694088697433472\n",
      "Data_3d_Z2_Ising_Met_N=15_K=200\\2.8\\1553283285.txt 7.915292263031006\n",
      "Data_3d_Z2_Ising_Met_N=15_K=200\\2.8\\1553283286.txt 7.126030683517456\n",
      "Data_3d_Z2_Ising_Met_N=15_K=200\\2.8\\1553283352.txt 6.982148885726929\n",
      "Data_3d_Z2_Ising_Met_N=15_K=200\\2.8\\1553283422.txt 6.6535725593566895\n",
      "Data_3d_Z2_Ising_Met_N=15_K=200\\2.8\\1553283473.txt 6.724289178848267\n",
      "Data_3d_Z2_Ising_Met_N=15_K=200\\2.8\\1553283531.txt 6.535953044891357\n",
      "Data_3d_Z2_Ising_Met_N=15_K=200\\2.8\\1553283539.txt 7.193519592285156\n",
      "Data_3d_Z2_Ising_Met_N=15_K=200\\2.8\\1553283600.txt 6.555520296096802\n",
      "Data_3d_Z2_Ising_Met_N=15_K=200\\2.8\\1553283659.txt 6.9726927280426025\n",
      "Data_3d_Z2_Ising_Met_N=15_K=200\\2.8\\1553283715.txt 6.63713526725769\n",
      "Data_3d_Z2_Ising_Met_N=15_K=200\\2.8\\1553283772.txt 6.683486700057983\n",
      "Data_3d_Z2_Ising_Met_N=15_K=200\\2.8\\1553283779.txt 6.70368218421936\n",
      "Data_3d_Z2_Ising_Met_N=15_K=200\\2.8\\1553283841.txt 6.684980869293213\n",
      "Data_3d_Z2_Ising_Met_N=15_K=200\\2.8\\1553283885.txt 6.780174016952515\n",
      "Data_3d_Z2_Ising_Met_N=15_K=200\\2.8\\1553283939.txt 6.72482967376709\n",
      "Data_3d_Z2_Ising_Met_N=15_K=200\\2.8\\1553283979.txt 6.587644577026367\n",
      "Data_3d_Z2_Ising_Met_N=15_K=200\\2.8\\1553284025.txt 6.749627351760864\n",
      "Data_3d_Z2_Ising_Met_N=15_K=200\\2.8\\1553284072.txt 6.666271448135376\n",
      "Data_3d_Z2_Ising_Met_N=15_K=200\\2.8\\1553284099.txt 6.691871166229248\n",
      "Data_3d_Z2_Ising_Met_N=15_K=200\\2.8\\1553284175.txt 6.6551830768585205\n",
      "Data_3d_Z2_Ising_Met_N=15_K=200\\2.8\\1553284185.txt 6.852622032165527\n",
      "Data_3d_Z2_Ising_Met_N=15_K=200\\2.8\\1553284256.txt 6.675189971923828\n",
      "Data_3d_Z2_Ising_Met_N=15_K=200\\2.8\\1553284282.txt 6.510218143463135\n",
      "Data_3d_Z2_Ising_Met_N=15_K=200\\2.8\\1553284359.txt 7.22836971282959\n",
      "Data_3d_Z2_Ising_Met_N=15_K=200\\2.8\\1553284452.txt 6.4958415031433105\n",
      "Data_3d_Z2_Ising_Met_N=15_K=200\\2.8\\1553284459.txt 6.481536149978638\n",
      "Data_3d_Z2_Ising_Met_N=15_K=200\\2.8\\1553284542.txt 6.444713592529297\n",
      "Data_3d_Z2_Ising_Met_N=15_K=200\\2.8\\1553284546.txt 6.454260349273682\n",
      "Data_3d_Z2_Ising_Met_N=15_K=200\\2.8\\1553284622.txt 6.65703558921814\n",
      "Data_3d_Z2_Ising_Met_N=15_K=200\\2.8\\1553284656.txt 6.4703369140625\n",
      "Data_3d_Z2_Ising_Met_N=15_K=200\\2.8\\1553284718.txt 6.436421155929565\n",
      "Data_3d_Z2_Ising_Met_N=15_K=200\\2.8\\1553284722.txt 6.546165704727173\n",
      "Data_3d_Z2_Ising_Met_N=15_K=200\\2.8\\1553284792.txt 6.920623302459717\n",
      "Data_3d_Z2_Ising_Met_N=15_K=200\\2.8\\1553284857.txt 6.568050384521484\n",
      "Data_3d_Z2_Ising_Met_N=15_K=200\\2.8\\1553284893.txt 6.555824041366577\n",
      "Data_3d_Z2_Ising_Met_N=15_K=200\\2.8\\1553284895.txt 6.450335502624512\n",
      "Data_3d_Z2_Ising_Met_N=15_K=200\\2.8\\1553284968.txt 6.639240264892578\n",
      "Data_3d_Z2_Ising_Met_N=15_K=200\\2.8\\1553285058.txt 6.48274564743042\n",
      "Data_3d_Z2_Ising_Met_N=15_K=200\\2.8\\1553285064.txt 6.630244731903076\n"
     ]
    }
   ],
   "source": [
    "for f in flist[50:100]:\n",
    "    t0 = time.time()\n",
    "    data = np.loadtxt(f, dtype=int)\n",
    "    alpha_complex=gudhi.AlphaComplex(data)\n",
    "    simplex_tree=alpha_complex.create_simplex_tree()\n",
    "    PD=simplex_tree.persistence()\n",
    "    PD0=[]\n",
    "    PD1=[]\n",
    "    PD2=[]\n",
    "    for elm in PD:\n",
    "        if elm[0]==1:\n",
    "            PD1.append((elm[1][0],elm[1][1]-elm[1][0]))\n",
    "        elif elm[0]==2:\n",
    "            PD2.append((elm[1][0],elm[1][1]-elm[1][0]))\n",
    "        else:\n",
    "            if elm[1][1]!=float('inf'):\n",
    "                PD0.append((elm[1][0],elm[1][1]-elm[1][0]))\n",
    "    PD0=np.round(PD0,decimals=5)\n",
    "    PD1=np.round(PD1,decimals=5)\n",
    "    PD2=np.round(PD2,decimals=5)\n",
    "    loc,counts=np.unique(PD0,axis=0,return_counts=True)\n",
    "    toSave=np.array([[loc[i][0],loc[i][1],counts[i]] for i in np.arange(len(counts))])\n",
    "    np.savetxt(f[:len(f)-4]+\"PD0.dat\",toSave)\n",
    "    loc,counts=np.unique(PD1,axis=0,return_counts=True)\n",
    "    toSave=np.array([[loc[i][0],loc[i][1],counts[i]] for i in np.arange(len(counts))])\n",
    "    np.savetxt(f[:len(f)-4]+\"PD1.dat\",toSave)\n",
    "    loc,counts=np.unique(PD2,axis=0,return_counts=True)\n",
    "    toSave=np.array([[loc[i][0],loc[i][1],counts[i]] for i in np.arange(len(counts))])\n",
    "    np.savetxt(f[:len(f)-4]+\"PD2.dat\",toSave)\n",
    "    print(f, time.time() - t0)"
   ]
  },
  {
   "cell_type": "code",
   "execution_count": 1335,
   "metadata": {
    "collapsed": true
   },
   "outputs": [
    {
     "data": {
      "text/plain": [
       "array([[  0.1, 100. ],\n",
       "       [  0.2, 100. ],\n",
       "       [  0.3, 100. ],\n",
       "       [  0.4, 100. ],\n",
       "       [  0.5, 100. ],\n",
       "       [  0.6, 100. ],\n",
       "       [  0.7, 100. ],\n",
       "       [  0.8, 100. ],\n",
       "       [  0.9, 100. ],\n",
       "       [  1. , 100. ],\n",
       "       [  1.1, 100. ],\n",
       "       [  1.2, 100. ],\n",
       "       [  1.3, 100. ],\n",
       "       [  1.4, 100. ],\n",
       "       [  1.5, 100. ],\n",
       "       [  1.6, 100. ],\n",
       "       [  1.7, 100. ],\n",
       "       [  1.8, 100. ],\n",
       "       [  1.9, 100. ],\n",
       "       [  2. , 100. ],\n",
       "       [  2.1, 100. ],\n",
       "       [  2.2, 100. ],\n",
       "       [  2.3, 100. ],\n",
       "       [  2.4, 100. ],\n",
       "       [  2.5, 100. ],\n",
       "       [  2.6, 100. ],\n",
       "       [  2.7, 100. ],\n",
       "       [  2.8, 100. ],\n",
       "       [  2.9, 100. ],\n",
       "       [  3. , 100. ],\n",
       "       [  3.1, 100. ],\n",
       "       [  3.2, 100. ],\n",
       "       [  3.3, 100. ],\n",
       "       [  3.4, 100. ],\n",
       "       [  3.5, 100. ],\n",
       "       [  3.6, 100. ],\n",
       "       [  3.7, 100. ],\n",
       "       [  3.8, 100. ],\n",
       "       [  3.9, 100. ],\n",
       "       [  4. , 100. ]])"
      ]
     },
     "execution_count": 1335,
     "metadata": {},
     "output_type": "execute_result"
    }
   ],
   "source": [
    "fPD1list=np.sort(glob.glob(\"*3d_Z2_Ising*/*/*PD1.dat\"))\n",
    "TPD1list=[]\n",
    "for f in fPD1list:\n",
    "    TPD1list.append(float(f[32:35]))\n",
    "np.array(np.unique(TPD1list, return_counts=True)).T"
   ]
  },
  {
   "cell_type": "code",
   "execution_count": 1336,
   "metadata": {},
   "outputs": [],
   "source": [
    "#pdlocnum has format [[birth1, persistence1, counts1],...]\n",
    "#bounds should be a list [bmin,bmax,pmin,pmax]\n",
    "#bins should be a list [bbins, pbins]\n",
    "def PerIm(pdloc,bounds,bins,stdev,res=1000):\n",
    "    x = np.linspace(bounds[0], bounds[1], res)\n",
    "    y = np.linspace(bounds[2], bounds[3], res)\n",
    "    xx, yy = np.meshgrid(x, y, sparse=True)\n",
    "    z=np.zeros([res,res])\n",
    "    for i in np.arange(len(pdloc)):\n",
    "        z=z+pdloc[i][1]*pdloc[i][2]*np.exp((-0.5*(xx-pdloc[i][0])**2-0.5*(yy-pdloc[i][1])**2)*stdev**-2)\n",
    "    return z.reshape(bins[0],res//bins[0],bins[1],res//bins[1]).sum(3).sum(1)"
   ]
  },
  {
   "cell_type": "code",
   "execution_count": 1389,
   "metadata": {},
   "outputs": [],
   "source": [
    "#pdlocnum has format [[birth1, persistence1, counts1],...]\n",
    "#bounds should be a list [pmin,pmax]\n",
    "#bins should be pbins\n",
    "def PerIm0(pdlocnum,bounds,bins,stdev,res=1000):\n",
    "    if len(np.shape(pdlocnum))==1:\n",
    "        pdlocnum = np.array([pdlocnum])\n",
    "    \n",
    "    y = np.linspace(bounds[0], bounds[1], res)\n",
    "    z=np.zeros(res)\n",
    "    for i in np.arange(len(pdlocnum)):\n",
    "        z=z+np.log(1+pdlocnum[i][1])*pdlocnum[i][2]*np.exp((-0.5*(y-pdlocnum[i][1])**2)*stdev**-2)\n",
    "    return z.reshape(bins,res//bins).sum(1)"
   ]
  },
  {
   "cell_type": "code",
   "execution_count": 1337,
   "metadata": {},
   "outputs": [],
   "source": [
    "fPD0list=np.sort(glob.glob(\"*3d_Z2_Ising*/*/*PD0.dat\"))\n",
    "TPD0list=[]\n",
    "for f in fPD0list:\n",
    "    TPD0list.append(float(f[32:35]))\n",
    "\n",
    "fPD1list=np.sort(glob.glob(\"*3d_Z2_Ising*/*/*PD1.dat\"))\n",
    "TPD1list=[]\n",
    "for f in fPD1list:\n",
    "    TPD1list.append(float(f[32:35]))\n",
    "\n",
    "fPD2list=np.sort(glob.glob(\"*3d_Z2_Ising*/*/*PD2.dat\"))\n",
    "TPD2list=[]\n",
    "for f in fPD2list:\n",
    "    TPD2list.append(float(f[32:35]))"
   ]
  },
  {
   "cell_type": "code",
   "execution_count": 1390,
   "metadata": {},
   "outputs": [],
   "source": [
    "pds0=[np.loadtxt(f) for f in fPD0list]\n",
    "pds1=[np.loadtxt(f) for f in fPD1list]\n",
    "pds2=[np.loadtxt(f) for f in fPD2list]"
   ]
  },
  {
   "cell_type": "code",
   "execution_count": 1504,
   "metadata": {},
   "outputs": [],
   "source": [
    "bounds=[0,5]\n",
    "bins=10\n",
    "res=bins*10\n",
    "\n",
    "imgs0 = [PerIm0(p,bounds,bins,1,res=res) for p in pds0]"
   ]
  },
  {
   "cell_type": "code",
   "execution_count": 1505,
   "metadata": {
    "scrolled": true
   },
   "outputs": [],
   "source": [
    "bounds=[0,5,0,5]\n",
    "bins=[10,10]\n",
    "res=bins[0]*10\n",
    "\n",
    "imgs1=[PerIm(pd,bounds,bins,1,res=res) for pd in pds1]\n",
    "imgs2=[PerIm(pd,bounds,bins,1,res=res) for pd in pds2]"
   ]
  },
  {
   "cell_type": "code",
   "execution_count": 1396,
   "metadata": {
    "scrolled": true
   },
   "outputs": [
    {
     "data": {
      "text/plain": [
       "<matplotlib.image.AxesImage at 0x23daca3dd68>"
      ]
     },
     "execution_count": 1396,
     "metadata": {},
     "output_type": "execute_result"
    },
    {
     "data": {
      "image/png": "[encoded data removed]",
      "text/plain": [
       "<Figure size 432x288 with 1 Axes>"
      ]
     },
     "metadata": {
      "needs_background": "light"
     },
     "output_type": "display_data"
    }
   ],
   "source": [
    "plt.imshow(imgs2[0],origin='lower')"
   ]
  },
  {
   "cell_type": "code",
   "execution_count": 1519,
   "metadata": {},
   "outputs": [],
   "source": [
    "imgs0_array=np.array(imgs0)\n",
    "imgs1_array=np.array([img.flatten() for img in imgs1])\n",
    "imgs2_array=np.array([img.flatten() for img in imgs2])\n",
    "imgs12_array=np.array([np.append(imgs1_array[i],imgs2_array[i]).flatten() for i in range(len(imgs1_array))])\n",
    "imgs012_array=np.array([np.append(imgs0_array[i],imgs12_array[i]).flatten() for i in range(len(imgs0_array))])"
   ]
  },
  {
   "cell_type": "code",
   "execution_count": 1766,
   "metadata": {},
   "outputs": [],
   "source": [
    "labels1=[int(t<1.31337) for t in TPD1list]\n",
    "labels2=[int(t<1.81337) for t in TPD2list]"
   ]
  },
  {
   "cell_type": "code",
   "execution_count": 1767,
   "metadata": {},
   "outputs": [],
   "source": [
    "X_train, X_test, y_train, y_test, T_train, T_test = train_test_split(imgs012_array, labels2, TPD2list, test_size=0.5)"
   ]
  },
  {
   "cell_type": "code",
   "execution_count": 1772,
   "metadata": {},
   "outputs": [
    {
     "data": {
      "image/png": "[encoded data removed]",
      "text/plain": [
       "<Figure size 576x576 with 2 Axes>"
      ]
     },
     "metadata": {
      "needs_background": "light"
     },
     "output_type": "display_data"
    }
   ],
   "source": [
    "logreg = LogisticRegression(C=0.1, solver='liblinear', penalty='l2')\n",
    "logreg.fit(X_train, y_train)\n",
    "\n",
    "inverse_image = np.copy(logreg.coef_).reshape((21,10))\n",
    "fig, ax = plt.subplots(figsize=(8,8))\n",
    "cs = ax.imshow(inverse_image, origin='lower')\n",
    "cbar = fig.colorbar(cs)"
   ]
  },
  {
   "cell_type": "code",
   "execution_count": 1773,
   "metadata": {},
   "outputs": [
    {
     "data": {
      "image/png": "[encoded data removed]",
      "text/plain": [
       "<Figure size 432x288 with 1 Axes>"
      ]
     },
     "metadata": {
      "needs_background": "light"
     },
     "output_type": "display_data"
    },
    {
     "data": {
      "text/plain": [
       "0.130582793637517"
      ]
     },
     "execution_count": 1773,
     "metadata": {},
     "output_type": "execute_result"
    }
   ],
   "source": [
    "pred = logreg.predict(X_test)\n",
    "diff = abs(pred-y_test)\n",
    "TT = np.arange(0.1,4.05,0.1)\n",
    "TT = np.round(TT, decimals=3)\n",
    "avg = np.zeros(len(TT))\n",
    "acc = np.zeros(len(TT))\n",
    "for i in np.arange(len(TT)):\n",
    "    avg[i] = np.mean(pred[np.where(T_test==TT[i])[0]])\n",
    "    acc[i] = np.mean(1-diff[np.where(T_test==TT[i])[0]])\n",
    "\n",
    "plt.ylim((0,1))\n",
    "plt.plot(TT, avg)\n",
    "plt.plot(TT, acc)\n",
    "plt.show()\n",
    "np.std(acc)"
   ]
  },
  {
   "cell_type": "markdown",
   "metadata": {},
   "source": [
    "**PCA**"
   ]
  },
  {
   "cell_type": "code",
   "execution_count": 1790,
   "metadata": {},
   "outputs": [
    {
     "data": {
      "text/plain": [
       "(4000, 4)"
      ]
     },
     "execution_count": 1790,
     "metadata": {},
     "output_type": "execute_result"
    }
   ],
   "source": [
    "subset=[np.array([imgs2_array[i,:2],imgs2_array[i,20:22]]).flatten() for i in range(len(imgs2_array))]\n",
    "np.shape(subset)"
   ]
  },
  {
   "cell_type": "code",
   "execution_count": 1813,
   "metadata": {},
   "outputs": [],
   "source": [
    "lowT=imgs2_array[np.where(TPD2list==np.min(TPD2list))[0]]\n",
    "highT=imgs2_array[np.where(TPD2list==np.max(TPD2list))[0]]\n",
    "subset=np.append(lowT,highT,axis=0)\n",
    "subsetT=np.append([TPD2list[i] for i in np.where(TPD2list==np.min(TPD2list))[0]],[TPD2list[i] for i in np.where(TPD2list==np.max(TPD2list))[0]])"
   ]
  },
  {
   "cell_type": "code",
   "execution_count": 1802,
   "metadata": {},
   "outputs": [
    {
     "data": {
      "text/plain": [
       "(200, 2)"
      ]
     },
     "execution_count": 1802,
     "metadata": {},
     "output_type": "execute_result"
    }
   ],
   "source": [
    "pca = PCA(n_components=2)\n",
    "# X_r = pca.fit(imgs2_array).transform(imgs2_array)\n",
    "X_r = pca.fit(subset).transform(subset)\n",
    "np.shape(X_r)"
   ]
  },
  {
   "cell_type": "code",
   "execution_count": 1815,
   "metadata": {},
   "outputs": [
    {
     "data": {
      "image/png": "[encoded data removed]",
      "text/plain": [
       "<Figure size 432x432 with 2 Axes>"
      ]
     },
     "metadata": {
      "needs_background": "light"
     },
     "output_type": "display_data"
    }
   ],
   "source": [
    "# fig = plt.figure(figsize=(10,10))\n",
    "# ax = fig.add_subplot(111, projection='3d')\n",
    "# ax.view_init(0,40)\n",
    "fig, ax = plt.subplots(1,1, figsize=(6,6))\n",
    "cmap = plt.cm.jet\n",
    "cmaplist = [cmap(i) for i in range(cmap.N)]\n",
    "cmap = cmap.from_list('Custom cmap', cmaplist, cmap.N)\n",
    "bounds = np.linspace(0,4,17)\n",
    "norm = mpl.colors.BoundaryNorm(bounds, cmap.N)\n",
    "scat = ax.scatter([elm[0] for elm in X_r],[elm[1] for elm in X_r],c=subsetT,s=5,cmap=cmap, norm=norm)\n",
    "cbar = fig.colorbar(scat)\n",
    "plt.show()"
   ]
  },
  {
   "cell_type": "code",
   "execution_count": 1816,
   "metadata": {},
   "outputs": [
    {
     "ename": "ValueError",
     "evalue": "Found input variables with inconsistent numbers of samples: [200, 4000, 200]",
     "output_type": "error",
     "traceback": [
      "\u001b[1;31m---------------------------------------------------------------------------\u001b[0m",
      "\u001b[1;31mValueError\u001b[0m                                Traceback (most recent call last)",
      "\u001b[1;32m<ipython-input-1816-fd792e4a4d82>\u001b[0m in \u001b[0;36m<module>\u001b[1;34m\u001b[0m\n\u001b[1;32m----> 1\u001b[1;33m \u001b[0mX_train\u001b[0m\u001b[1;33m,\u001b[0m \u001b[0mX_test\u001b[0m\u001b[1;33m,\u001b[0m \u001b[0my_train\u001b[0m\u001b[1;33m,\u001b[0m \u001b[0my_test\u001b[0m\u001b[1;33m,\u001b[0m \u001b[0mT_train\u001b[0m\u001b[1;33m,\u001b[0m \u001b[0mT_test\u001b[0m \u001b[1;33m=\u001b[0m \u001b[0mtrain_test_split\u001b[0m\u001b[1;33m(\u001b[0m\u001b[0msubset\u001b[0m\u001b[1;33m,\u001b[0m \u001b[0mlabels2\u001b[0m\u001b[1;33m,\u001b[0m \u001b[0msubsetT\u001b[0m\u001b[1;33m,\u001b[0m \u001b[0mtest_size\u001b[0m\u001b[1;33m=\u001b[0m\u001b[1;36m0.5\u001b[0m\u001b[1;33m)\u001b[0m\u001b[1;33m\u001b[0m\u001b[1;33m\u001b[0m\u001b[0m\n\u001b[0m",
      "\u001b[1;32m~\\Anaconda3\\lib\\site-packages\\sklearn\\model_selection\\_split.py\u001b[0m in \u001b[0;36mtrain_test_split\u001b[1;34m(*arrays, **options)\u001b[0m\n\u001b[0;32m   2182\u001b[0m         \u001b[0mtest_size\u001b[0m \u001b[1;33m=\u001b[0m \u001b[1;36m0.25\u001b[0m\u001b[1;33m\u001b[0m\u001b[1;33m\u001b[0m\u001b[0m\n\u001b[0;32m   2183\u001b[0m \u001b[1;33m\u001b[0m\u001b[0m\n\u001b[1;32m-> 2184\u001b[1;33m     \u001b[0marrays\u001b[0m \u001b[1;33m=\u001b[0m \u001b[0mindexable\u001b[0m\u001b[1;33m(\u001b[0m\u001b[1;33m*\u001b[0m\u001b[0marrays\u001b[0m\u001b[1;33m)\u001b[0m\u001b[1;33m\u001b[0m\u001b[1;33m\u001b[0m\u001b[0m\n\u001b[0m\u001b[0;32m   2185\u001b[0m \u001b[1;33m\u001b[0m\u001b[0m\n\u001b[0;32m   2186\u001b[0m     \u001b[1;32mif\u001b[0m \u001b[0mshuffle\u001b[0m \u001b[1;32mis\u001b[0m \u001b[1;32mFalse\u001b[0m\u001b[1;33m:\u001b[0m\u001b[1;33m\u001b[0m\u001b[1;33m\u001b[0m\u001b[0m\n",
      "\u001b[1;32m~\\Anaconda3\\lib\\site-packages\\sklearn\\utils\\validation.py\u001b[0m in \u001b[0;36mindexable\u001b[1;34m(*iterables)\u001b[0m\n\u001b[0;32m    258\u001b[0m         \u001b[1;32melse\u001b[0m\u001b[1;33m:\u001b[0m\u001b[1;33m\u001b[0m\u001b[1;33m\u001b[0m\u001b[0m\n\u001b[0;32m    259\u001b[0m             \u001b[0mresult\u001b[0m\u001b[1;33m.\u001b[0m\u001b[0mappend\u001b[0m\u001b[1;33m(\u001b[0m\u001b[0mnp\u001b[0m\u001b[1;33m.\u001b[0m\u001b[0marray\u001b[0m\u001b[1;33m(\u001b[0m\u001b[0mX\u001b[0m\u001b[1;33m)\u001b[0m\u001b[1;33m)\u001b[0m\u001b[1;33m\u001b[0m\u001b[1;33m\u001b[0m\u001b[0m\n\u001b[1;32m--> 260\u001b[1;33m     \u001b[0mcheck_consistent_length\u001b[0m\u001b[1;33m(\u001b[0m\u001b[1;33m*\u001b[0m\u001b[0mresult\u001b[0m\u001b[1;33m)\u001b[0m\u001b[1;33m\u001b[0m\u001b[1;33m\u001b[0m\u001b[0m\n\u001b[0m\u001b[0;32m    261\u001b[0m     \u001b[1;32mreturn\u001b[0m \u001b[0mresult\u001b[0m\u001b[1;33m\u001b[0m\u001b[1;33m\u001b[0m\u001b[0m\n\u001b[0;32m    262\u001b[0m \u001b[1;33m\u001b[0m\u001b[0m\n",
      "\u001b[1;32m~\\Anaconda3\\lib\\site-packages\\sklearn\\utils\\validation.py\u001b[0m in \u001b[0;36mcheck_consistent_length\u001b[1;34m(*arrays)\u001b[0m\n\u001b[0;32m    233\u001b[0m     \u001b[1;32mif\u001b[0m \u001b[0mlen\u001b[0m\u001b[1;33m(\u001b[0m\u001b[0muniques\u001b[0m\u001b[1;33m)\u001b[0m \u001b[1;33m>\u001b[0m \u001b[1;36m1\u001b[0m\u001b[1;33m:\u001b[0m\u001b[1;33m\u001b[0m\u001b[1;33m\u001b[0m\u001b[0m\n\u001b[0;32m    234\u001b[0m         raise ValueError(\"Found input variables with inconsistent numbers of\"\n\u001b[1;32m--> 235\u001b[1;33m                          \" samples: %r\" % [int(l) for l in lengths])\n\u001b[0m\u001b[0;32m    236\u001b[0m \u001b[1;33m\u001b[0m\u001b[0m\n\u001b[0;32m    237\u001b[0m \u001b[1;33m\u001b[0m\u001b[0m\n",
      "\u001b[1;31mValueError\u001b[0m: Found input variables with inconsistent numbers of samples: [200, 4000, 200]"
     ]
    }
   ],
   "source": [
    "X_train, X_test, y_train, y_test, T_train, T_test = train_test_split(subset, labels2, subsetT, test_size=0.5)"
   ]
  },
  {
   "cell_type": "code",
   "execution_count": 1796,
   "metadata": {},
   "outputs": [],
   "source": [
    "kmeans = KMeans(n_clusters=2, random_state=0, n_init=100, max_iter=100000, tol=1e-6).fit(X_train)"
   ]
  },
  {
   "cell_type": "code",
   "execution_count": 1797,
   "metadata": {},
   "outputs": [
    {
     "name": "stdout",
     "output_type": "stream",
     "text": [
      "1.9012024048096192\n"
     ]
    },
    {
     "data": {
      "image/png": "[encoded data removed]",
      "text/plain": [
       "<Figure size 432x288 with 1 Axes>"
      ]
     },
     "metadata": {
      "needs_background": "light"
     },
     "output_type": "display_data"
    }
   ],
   "source": [
    "pred = kmeans.predict(X_test)\n",
    "diff = abs(pred - y_test)\n",
    "TT = np.unique(T_test)\n",
    "TT = np.round(TT, decimals=3)\n",
    "avg = np.zeros(len(TT))\n",
    "acc = np.zeros(len(TT))\n",
    "for i in np.arange(len(TT)):\n",
    "    avg[i] = np.mean(pred[np.where(T_test==TT[i])[0]])\n",
    "    acc[i] = np.mean(1-diff[np.where(T_test==TT[i])[0]])\n",
    "\n",
    "plt.plot(TT, avg)\n",
    "plt.ylim((0,1))\n",
    "\n",
    "tRange = np.linspace(1.6,2.5,500)\n",
    "interp = np.interp(tRange, TT, avg)\n",
    "\n",
    "Tc = tRange[abs(interp-0.5).argmin()]\n",
    "print(Tc)"
   ]
  },
  {
   "cell_type": "code",
   "execution_count": null,
   "metadata": {},
   "outputs": [],
   "source": []
  }
 ],
 "metadata": {
  "kernelspec": {
   "display_name": "Python 3",
   "language": "python",
   "name": "python3"
  },
  "language_info": {
   "codemirror_mode": {
    "name": "ipython",
    "version": 3
   },
   "file_extension": ".py",
   "mimetype": "text/x-python",
   "name": "python",
   "nbconvert_exporter": "python",
   "pygments_lexer": "ipython3",
   "version": "3.6.8"
  }
 },
 "nbformat": 4,
 "nbformat_minor": 2
}
